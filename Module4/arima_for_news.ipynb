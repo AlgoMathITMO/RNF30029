{
 "cells": [
  {
   "cell_type": "code",
   "execution_count": null,
   "metadata": {},
   "outputs": [],
   "source": [
    "import pandas as pd\n",
    "import pmdarima as pm\n",
    "from pmdarima.arima import ndiffs\n",
    "\n",
    "from scipy import stats\n",
    "import datetime\n",
    "from dateutil import rrule\n",
    "\n",
    "from time import sleep\n",
    "from tqdm import tqdm\n",
    "import warnings\n",
    "\n",
    "def invboxcox(y,lmbda):\n",
    "   if lmbda == 0:\n",
    "      return(np.exp(y))\n",
    "   else:\n",
    "      return(np.exp(np.log(lmbda*y+1)/lmbda))\n",
    "\n",
    "\n",
    "def weeks_between(start_date, end_date):\n",
    "    weeks = rrule.rrule(rrule.WEEKLY, dtstart=start_date, until=end_date)\n",
    "    return weeks.count()\n",
    "\n",
    "warnings.filterwarnings('ignore')\n"
   ]
  },
  {
   "cell_type": "code",
   "execution_count": null,
   "metadata": {},
   "outputs": [],
   "source": [
    "news_all = pd.read_csv('news_with_clusters.csv', sep=',', index_col=0)\n",
    "news_all = news_all[['text', 'CustomName', 'date']]"
   ]
  },
  {
   "cell_type": "code",
   "execution_count": null,
   "metadata": {},
   "outputs": [],
   "source": [
    "BLUE_GROUP = ['Политика', 'Уголовные дела', 'Крупные траты', 'Общество и санкции',\n",
    " 'Уход компаний из России', 'Мероприятия', 'Политика', 'Законы и штрафы', 'Авиасообщение', \n",
    " 'Военные действия', 'Транспортные ограничения', 'Транспортная инфраструктура']\n",
    "\n",
    "HEALTH_GROUP = ['Здравоохранение', 'Мероприятия', 'Общество', 'Цены', 'Авиасообщение']"
   ]
  },
  {
   "cell_type": "code",
   "execution_count": null,
   "metadata": {},
   "outputs": [],
   "source": [
    "news_all = news_all[news_all.CustomName.isin(BLUE_GROUP)]"
   ]
  },
  {
   "cell_type": "code",
   "execution_count": null,
   "metadata": {},
   "outputs": [],
   "source": [
    "news = news_all.copy()\n",
    "weeks_in_year = 52\n",
    "\n",
    "news.date = pd.to_datetime(news_all.date)\n",
    "news.set_index(\"date\", inplace=True)\n",
    "df_news = news.resample(\"W\").agg({\"text\": \"count\"})\n",
    "\n",
    "df_news = df_news[df_news.index < '2020-01-01']\n",
    "\n",
    "df_news[\"text_box\"], lmbda = stats.boxcox(df_news[\"text\"])\n",
    "df_news[\"text_box_diff\"] = df_news.text_box - df_news.text_box.shift(weeks_in_year)\n",
    "df_news[\"text_box_diff2\"] = df_news[\"text_box_diff\"] - df_news[\n",
    "    \"text_box_diff\"\n",
    "].shift(1)\n",
    "min_value = df_news[\"text_box_diff2\"].min()\n",
    "max_value = df_news[\"text_box_diff2\"].max()\n",
    "df_news[\"text_box_diff2\"] = (df_news[\"text_box_diff2\"] - min_value) / (\n",
    "    max_value - min_value\n",
    ")\n",
    "\n",
    "df = df_news['text_box_diff2'].copy()\n",
    "\n",
    "results = []\n",
    "\n",
    "current_ts = df.dropna()\n",
    "kpss_diffs = ndiffs(current_ts, alpha=0.05, test='kpss', max_d=6)\n",
    "adf_diffs = ndiffs(current_ts, alpha=0.05, test='adf', max_d=6)\n",
    "n_diffs = max(adf_diffs, kpss_diffs)\n",
    "\n",
    "auto = pm.auto_arima(current_ts, d=n_diffs, seasonal=True, m=52, stepwise=True,\n",
    "                  suppress_warnings=True, error_action=\"ignore\", max_p=6,\n",
    "                  max_order=None, trace=True)\n",
    "start_aic = auto.aic()\n",
    "start_params = auto.params().to_dict()\n",
    "start_weights = auto"
   ]
  },
  {
   "cell_type": "code",
   "execution_count": null,
   "metadata": {},
   "outputs": [],
   "source": [
    "calculated_order = auto.order\n",
    "calculated_seasonal_order = auto.seasonal_order"
   ]
  },
  {
   "cell_type": "code",
   "execution_count": null,
   "metadata": {},
   "outputs": [],
   "source": [
    "weeks_in_year = 52\n",
    "models_list = []\n",
    "datetime_mask = datetime.date(2019, 12, 29)\n",
    "weeks_num = weeks_between(datetime.date(2019,12,29), datetime.date(year=2022, month=7, day=3))\n",
    "\n",
    "c=0\n",
    "with tqdm(total=weeks_num) as pbar:\n",
    "    while datetime_mask <= datetime.date(year=2022, month=7, day=3):\n",
    "        news = news_all.copy()\n",
    "        mask = news[\"date\"] <= str(datetime_mask)\n",
    "        datetime_mask += pd.DateOffset(weeks=1)\n",
    "        datetime_mask = datetime_mask.date()\n",
    "\n",
    "        news = news.loc[mask]\n",
    "        news.date = pd.to_datetime(news.date)\n",
    "        news.set_index(\"date\", inplace=True)\n",
    "        df_news = news.resample(\"W\").agg({\"text\": \"count\"})\n",
    "        df_news[\"text_box\"], lmbda = stats.boxcox(df_news[\"text\"])\n",
    "        df_news[\"text_box_diff\"] = df_news.text_box - df_news.text_box.shift(weeks_in_year)\n",
    "        df_news[\"text_box_diff2\"] = df_news[\"text_box_diff\"] - df_news[\n",
    "            \"text_box_diff\"\n",
    "        ].shift(1)\n",
    "        min_value = df_news[\"text_box_diff2\"].min()\n",
    "        max_value = df_news[\"text_box_diff2\"].max()\n",
    "        df_news[\"text_box_diff2\"] = (df_news[\"text_box_diff2\"] - min_value) / (\n",
    "            max_value - min_value\n",
    "        )\n",
    "\n",
    "        model =  pm.ARIMA(order=calculated_order, seasonal_order=calculated_seasonal_order).fit(df_news[\"text_box_diff2\"])\n",
    "        \n",
    "        if c==0:\n",
    "            start_params.update({'week': str(datetime.date(2019, 12, 29))})\n",
    "            start_params.update({'aic': start_aic})\n",
    "            parms_df = pd.DataFrame(start_params, index=[-1])\n",
    "\n",
    "            params = model.params().to_dict()\n",
    "            params.update({'week': str(datetime_mask)})\n",
    "            params.update({'aic': model.aic()})\n",
    "            new_vals = pd.DataFrame(params, index=[c])\n",
    "            parms_df = pd.concat([parms_df, new_vals])\n",
    "        else:\n",
    "            params = model.params().to_dict()\n",
    "            params.update({'week': str(datetime_mask)})\n",
    "            params.update({'aic': model.aic()})\n",
    "            new_vals = pd.DataFrame(params, index=[c])\n",
    "            parms_df = pd.concat([parms_df, new_vals])\n",
    "\n",
    "        c+=1\n",
    "        sleep(0.1)\n",
    "        pbar.update(1)\n",
    "        pbar.set_description(f\"Processed {datetime_mask}\")"
   ]
  },
  {
   "cell_type": "code",
   "execution_count": null,
   "metadata": {},
   "outputs": [],
   "source": [
    "parms_df = parms_df.drop(columns=['intercept']).set_index('week')"
   ]
  },
  {
   "cell_type": "code",
   "execution_count": null,
   "metadata": {},
   "outputs": [],
   "source": [
    "parms_df.aic.plot()"
   ]
  },
  {
   "cell_type": "code",
   "execution_count": null,
   "metadata": {},
   "outputs": [],
   "source": [
    "parms_df.iloc[:-1,:].to_csv('params_blue_14122023.csv')"
   ]
  },
  {
   "cell_type": "code",
   "execution_count": null,
   "metadata": {},
   "outputs": [],
   "source": [
    "parms_df"
   ]
  }
 ],
 "metadata": {
  "kernelspec": {
   "display_name": "Python 3",
   "language": "python",
   "name": "python3"
  },
  "language_info": {
   "codemirror_mode": {
    "name": "ipython",
    "version": 3
   },
   "file_extension": ".py",
   "mimetype": "text/x-python",
   "name": "python",
   "nbconvert_exporter": "python",
   "pygments_lexer": "ipython3",
   "version": "3.9.4"
  }
 },
 "nbformat": 4,
 "nbformat_minor": 1
}
